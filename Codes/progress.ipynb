{
 "cells": [
  {
   "cell_type": "markdown",
   "metadata": {},
   "source": [
    "# The Admin TUI"
   ]
  },
  {
   "cell_type": "markdown",
   "metadata": {},
   "source": [
    "## Requiments\n",
    "- Only npyscreen is required\n",
    "- Official Doc.                 >>    https://npyscreen.readthedocs.io/index.html\n",
    "- detaild PDF doc. (relase 2)   >>    https://buildmedia.readthedocs.org/media/pdf/npyscreen/latest/npyscreen.pdf\n",
    "- Google group for Npyscreen    >>    https://groups.google.com/g/npyscreen\n",
    "- Offical Git                   >>    https://github.com/npcole/npyscreen "
   ]
  },
  {
   "cell_type": "markdown",
   "metadata": {},
   "source": [
    "--------------------------------------\n",
    "- This part to just show the images in the nootbook"
   ]
  },
  {
   "cell_type": "code",
   "execution_count": 2,
   "metadata": {},
   "outputs": [],
   "source": [
    "\n",
    "from PIL import Image\n",
    "import cv2\n",
    "import numpy as np\n",
    "import matplotlib.pyplot as plt\n"
   ]
  },
  {
   "cell_type": "markdown",
   "metadata": {},
   "source": [
    "---------------------------------"
   ]
  },
  {
   "cell_type": "markdown",
   "metadata": {},
   "source": [
    "- ### Part 1 : Make Boxes around Grid"
   ]
  },
  {
   "cell_type": "code",
   "execution_count": 1,
   "metadata": {},
   "outputs": [],
   "source": [
    "# !/usr/bin/env python\n",
    "### encoding: utf-8\n",
    "import npyscreen\n",
    "\n",
    "class MyGrid_H(npyscreen.GridColTitles):       \n",
    "    def custom_print_cell(self, actual_cell, cell_display_value):\n",
    "        \n",
    "        if cell_display_value in [\"Auth Server\", \"FIDO\",\"SCIM\",\n",
    "                     \"Config-API\",\"Client-API\", \"Scripts\"]:\n",
    "           actual_cell.color = 'GOOD'\n",
    "\n",
    "class InputBox_H(npyscreen.BoxTitle):\n",
    "    _contained_widget = MyGrid_H\n",
    "\n",
    "def myFunction(*args):\n",
    "    F = npyscreen.Form(name='Example viewer')\n",
    "    gd = F.add(InputBox_H, name=\"\",max_height=5,max_width=100,width = 50)\n",
    "    gd.values = []\n",
    "    gd.values.append(\n",
    "           [\"Auth Server\", \"FIDO\",\"SCIM\",\n",
    "                     \"Config-API\",\"Client-API\", \"Scripts\"])\n",
    "    myFW = F.add(npyscreen.TitleText,name=\"title text\", rely=10,relx=75)\n",
    "    F.edit()\n",
    "\n",
    "if __name__ == '__main__':\n",
    "    npyscreen.wrapper_basic(myFunction)"
   ]
  },
  {
   "cell_type": "markdown",
   "metadata": {},
   "source": [
    "- ### Output 1"
   ]
  },
  {
   "cell_type": "code",
   "execution_count": 3,
   "metadata": {},
   "outputs": [
    {
     "data": {
      "image/png": "[encoded data removed]",
      "text/plain": [
       "<Figure size 432x288 with 1 Axes>"
      ]
     },
     "metadata": {
      "needs_background": "light"
     },
     "output_type": "display_data"
    }
   ],
   "source": [
    "im_array = np.asarray(cv2.imread('grid_with_column.png'))\n",
    "plt.imshow(im_array)\n",
    "plt.show()"
   ]
  },
  {
   "cell_type": "markdown",
   "metadata": {},
   "source": [
    "---------------------------------------------------"
   ]
  },
  {
   "cell_type": "markdown",
   "metadata": {},
   "source": [
    "- ### Part 2 : Inhirit two diffrent calss from Box class and stracture rely,relx\n"
   ]
  },
  {
   "cell_type": "code",
   "execution_count": null,
   "metadata": {},
   "outputs": [],
   "source": [
    "import curses\n",
    "import npyscreen\n",
    "\n",
    "class MyGrid_H(npyscreen.GridColTitles): \n",
    "\n",
    "    def __init__(self, screen, col_titles=None, *args, **keywords):\n",
    "        super().__init__(screen, col_titles, *args, **keywords)\n",
    "        self.col_margin=4,\n",
    "        self.select_whole_line = False\n",
    "\n",
    "\n",
    "    def custom_print_cell(self, actual_cell, cell_display_value):\n",
    "        \n",
    "        if cell_display_value in [\"Auth Server\", \"FIDO\",\"SCIM\",\n",
    "                     \"Config-API\",\"Client-API\", \"Scripts\"]:\n",
    "           actual_cell.color = 'WHITE'\n",
    "\n",
    "class InputBox_H(npyscreen.BoxTitle):\n",
    "    _contained_widget = MyGrid_H\n",
    "    _contained_widget = npyscreen.TitleText\n",
    "\n",
    "def myFunction(*args):    \n",
    "    F = npyscreen.Form(name='',color=\"COLOR_GREEN\", labelColor='COLOR_GREEN')\n",
    "    F.add(npyscreen.TitleText,name=\"  Jassan Admin\",editable=False)\n",
    "    gd = F.add(InputBox_H, name=\"\",max_height=5,max_width=115)\n",
    "    gd.values = []\n",
    "    gd.values.append(\n",
    "           [\"Auth Server\", \"FIDO\",\"SCIM\",\n",
    "                     \"Config-API\",\"Client-API\", \"Scripts\"])\n",
    "\n",
    "    myFW = F.add(InputBox_H,name=\"title text\", rely=10,relx=60)\n",
    "    F.edit()\n",
    "        \n",
    "if __name__ == '__main__':\n",
    "    npyscreen.wrapper_basic(myFunction)"
   ]
  },
  {
   "cell_type": "markdown",
   "metadata": {},
   "source": [
    "- ### Output 2"
   ]
  },
  {
   "cell_type": "code",
   "execution_count": 4,
   "metadata": {},
   "outputs": [
    {
     "data": {
      "image/png": "[encoded data removed]",
      "text/plain": [
       "<Figure size 432x288 with 1 Axes>"
      ]
     },
     "metadata": {
      "needs_background": "light"
     },
     "output_type": "display_data"
    }
   ],
   "source": [
    "im_array = np.asarray(cv2.imread('spliting_multi_boxes.png'))\n",
    "plt.imshow(im_array)\n",
    "plt.show()"
   ]
  },
  {
   "cell_type": "markdown",
   "metadata": {},
   "source": [
    "----------------------------------------------------------------"
   ]
  },
  {
   "cell_type": "markdown",
   "metadata": {},
   "source": [
    "- ### Part 3 : Vertical Box with Data to select\n"
   ]
  },
  {
   "cell_type": "code",
   "execution_count": null,
   "metadata": {},
   "outputs": [],
   "source": [
    "import npyscreen\n",
    "\n",
    "class InputBox(npyscreen.BoxTitle):\n",
    "    _contained_widget = npyscreen.TitleText\n",
    "    _contained_widget_height = 2\n",
    "\n",
    "class Form1(npyscreen.Form):\n",
    "    def create(self):\n",
    "        self.add(npyscreen.TitleText,name=\"  Jassan Admin\",editable=False)##\n",
    "        \n",
    "        self.add(npyscreen.BoxTitle, name=\"\",\n",
    "                    custom_highlighting=True, values=[\"Basic\", \"Token\",\"Logout\",\n",
    "                     \"Timeout\",\"URIs\", \"Encription\",\"Client Properties\", \"Client Scripts\",\"Save\"],\n",
    "                     value=[1, ],max_height=12,max_width=25,)\n",
    "        self.add(npyscreen.TitleText,name='starting')\n",
    "\n",
    "\n",
    "    def afterEditing(self):\n",
    "        self.parentApp.setNextForm(None)\n",
    "\n",
    "    def display_value(self, vl):\n",
    "        return vl\n",
    "        \n",
    "        \n",
    "class HopaApp(npyscreen.NPSAppManaged):\n",
    "    def onStart(self):\n",
    "        npyscreen.setTheme(npyscreen.Themes.ColorfulTheme)\n",
    "        self.addForm(\"MAIN\",Form1, name=\"MAIN\" ) ##, color=\"CURSOR_INVERSE\", \n",
    "\n",
    "if __name__ == \"__main__\":\n",
    "    App = HopaApp()\n",
    "    App.run()\n"
   ]
  },
  {
   "cell_type": "markdown",
   "metadata": {},
   "source": [
    "- ### Output 3"
   ]
  },
  {
   "cell_type": "code",
   "execution_count": 5,
   "metadata": {},
   "outputs": [
    {
     "data": {
      "image/png": "[encoded data removed]",
      "text/plain": [
       "<Figure size 432x288 with 1 Axes>"
      ]
     },
     "metadata": {
      "needs_background": "light"
     },
     "output_type": "display_data"
    }
   ],
   "source": [
    "im_array = np.asarray(cv2.imread('part3_v_columns.PNG'))\n",
    "plt.imshow(im_array)\n",
    "plt.show()"
   ]
  },
  {
   "cell_type": "markdown",
   "metadata": {},
   "source": [
    "-----------------------------------"
   ]
  },
  {
   "cell_type": "markdown",
   "metadata": {},
   "source": [
    "### To DO Next\n",
    "- Merge all of them\n",
    "- Make certain value change on selection\n",
    "- make row width smaller (not all 6 appears)\n"
   ]
  }
 ],
 "metadata": {
  "kernelspec": {
   "display_name": "Python 3.9.6 64-bit",
   "language": "python",
   "name": "python3"
  },
  "language_info": {
   "codemirror_mode": {
    "name": "ipython",
    "version": 3
   },
   "file_extension": ".py",
   "mimetype": "text/x-python",
   "name": "python",
   "nbconvert_exporter": "python",
   "pygments_lexer": "ipython3",
   "version": "3.9.6"
  },
  "orig_nbformat": 4,
  "vscode": {
   "interpreter": {
    "hash": "84a205566571b68d373271bc5793e97597298328d6c5101000eb31d16de1a150"
   }
  }
 },
 "nbformat": 4,
 "nbformat_minor": 2
}
