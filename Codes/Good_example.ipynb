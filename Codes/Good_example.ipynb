{
 "cells": [
  {
   "cell_type": "markdown",
   "metadata": {},
   "source": [
    "# These are great examples that descripe desired functialities"
   ]
  },
  {
   "cell_type": "markdown",
   "metadata": {},
   "source": [
    "## Requiments\n",
    "- Only npyscreen is required\n",
    "- Official Doc.                 >>    https://npyscreen.readthedocs.io/index.html\n",
    "- detaild PDF doc. (relase 2)   >>    https://buildmedia.readthedocs.org/media/pdf/npyscreen/latest/npyscreen.pdf\n",
    "- Google group for Npyscreen    >>    https://groups.google.com/g/npyscreen\n",
    "- Offical Git                   >>    https://github.com/npcole/npyscreen "
   ]
  },
  {
   "cell_type": "markdown",
   "metadata": {},
   "source": [
    "--------------------------------------\n",
    "- This part to just show the images in the nootbook"
   ]
  },
  {
   "cell_type": "code",
   "execution_count": 2,
   "metadata": {},
   "outputs": [],
   "source": [
    "\n",
    "from PIL import Image\n",
    "import cv2\n",
    "import numpy as np\n",
    "import matplotlib.pyplot as plt\n"
   ]
  },
  {
   "cell_type": "markdown",
   "metadata": {},
   "source": [
    "---------------------------------"
   ]
  },
  {
   "cell_type": "markdown",
   "metadata": {},
   "source": [
    "- ### Ex 1 : Two Boxes with editable text in them"
   ]
  },
  {
   "cell_type": "code",
   "execution_count": null,
   "metadata": {},
   "outputs": [],
   "source": [
    "#!/usr/bin/env python3\n",
    "import npyscreen\n",
    "import weakref\n",
    "\n",
    "class App(npyscreen.NPSAppManaged ):\n",
    "    def onStart(self):\n",
    "        self.addForm(\"MAIN\", MainForm, name=\"TEST_FORM\")\n",
    "\n",
    "\n",
    "class InputWidget(npyscreen.Textfield):\n",
    "    def __init__(self, *args, **keywords):\n",
    "        super(InputWidget, self).__init__(*args, **keywords)\n",
    "        self.value = 'Text_strok'\n",
    "        dd = 0\n",
    "\n",
    "class multiContainedBox(npyscreen.BoxTitle):\n",
    "    _contained_widget = [InputWidget, InputWidget]\n",
    "\n",
    "\n",
    "    def make_contained_widget(self, contained_widget_arguments=None):\n",
    "        self._my_widgets = []\n",
    "        _rely = self.rely+1\n",
    "        _relx = self.relx+2\n",
    "        if contained_widget_arguments:\n",
    "            for widget in self._contained_widget:\n",
    "                self._my_widgets.append(widget(self.parent,\n",
    "                                    rely=_rely, relx = _relx,\n",
    "                                    max_width=20, max_height=3,\n",
    "                                    **contained_widget_arguments\n",
    "                                ))\n",
    "                _rely+=3\n",
    "        else:\n",
    "            for widget in self._contained_widget:\n",
    "                print(widget)\n",
    "                self._my_widgets.append(widget(self.parent,\n",
    "                                rely=_rely, relx = _relx,\n",
    "                                max_width=20, max_height=3\n",
    "                            ))\n",
    "                _rely+=3\n",
    "        self.entry_widget = weakref.proxy(self._my_widgets[0])\n",
    "\n",
    "\n",
    "    def update(self, clear=True):\n",
    "        if self.hidden and clear:\n",
    "            self.clear()\n",
    "            return False\n",
    "        elif self.hidden:\n",
    "            return False\n",
    "        super(multiContainedBox, self).update(clear=clear)\n",
    "        for w in self._my_widgets:\n",
    "            w.update(clear=clear)\n",
    "            #w.edit()\n",
    "\n",
    "\n",
    "class MainForm(npyscreen.FormBaseNew):\n",
    "    def create(self):\n",
    "        y, x = self.useable_space()\n",
    "\n",
    "        self.InputBox = self.add(multiContainedBox, name=\"BOX\",max_height=8,max_width=24,relx=20, rely=3)\n",
    "        self.InputBox2 = self.add(multiContainedBox, name=\"BOX2\", max_height=8, max_width=24, relx=20, rely=12)\n",
    "\n",
    "\n",
    "\n",
    "MyApp = App()\n",
    "MyApp.run()"
   ]
  },
  {
   "cell_type": "markdown",
   "metadata": {},
   "source": [
    "- ### Output 1"
   ]
  },
  {
   "cell_type": "code",
   "execution_count": 3,
   "metadata": {},
   "outputs": [
    {
     "data": {
      "image/png": "[encoded data removed]",
      "text/plain": [
       "<Figure size 432x288 with 1 Axes>"
      ]
     },
     "metadata": {
      "needs_background": "light"
     },
     "output_type": "display_data"
    }
   ],
   "source": [
    "im_array = np.asarray(cv2.imread('ex1.png'))\n",
    "plt.imshow(im_array)\n",
    "plt.show()"
   ]
  },
  {
   "cell_type": "markdown",
   "metadata": {},
   "source": [
    "-----------------------------------------------------"
   ]
  },
  {
   "cell_type": "markdown",
   "metadata": {},
   "source": [
    "- ### Ex 2 : Read Time Colock >>>> edit a TitleText."
   ]
  },
  {
   "cell_type": "code",
   "execution_count": null,
   "metadata": {},
   "outputs": [],
   "source": [
    "#!/usr/bin/env python\n",
    "import npyscreen\n",
    "import time\n",
    "import curses\n",
    "\n",
    "class TimeoutApplication(npyscreen.NPSAppManaged):\n",
    "\tdef onStart(self):\n",
    "\t\tself.mainForm = self.addForm('MAIN', TimeoutForm)\n",
    "\t\t\n",
    "\t\t\n",
    "class TimeoutForm(npyscreen.Form):\n",
    "\tdef create(self):\n",
    "\t\tself.keypress_timeout = 10\n",
    "\t\tself.timeWidget       = self.add(npyscreen.TitleText, name=\"Time:\", value=None, editable = None)\n",
    "\t\n",
    "\tdef afterEditing(self):\n",
    "\t\tself.parentApp.NEXT_ACTIVE_FORM = None\n",
    "\t\n",
    "\tdef while_waiting(self):\n",
    "\t\tself.timeWidget.value = time.asctime()\n",
    "\t\tself.timeWidget.display()\n",
    "\n",
    "\n",
    "if __name__ == \"__main__\":\n",
    "\tapp = TimeoutApplication()\n",
    "\tapp.run()"
   ]
  },
  {
   "cell_type": "markdown",
   "metadata": {},
   "source": [
    "- ### Output 2"
   ]
  },
  {
   "cell_type": "code",
   "execution_count": 4,
   "metadata": {},
   "outputs": [
    {
     "data": {
      "image/png": "[encoded data removed]",
      "text/plain": [
       "<Figure size 432x288 with 1 Axes>"
      ]
     },
     "metadata": {
      "needs_background": "light"
     },
     "output_type": "display_data"
    }
   ],
   "source": [
    "im_array = np.asarray(cv2.imread('ex2_time.PNG'))\n",
    "plt.imshow(im_array)\n",
    "plt.show()"
   ]
  },
  {
   "cell_type": "markdown",
   "metadata": {},
   "source": [
    "---------------------------------------------"
   ]
  },
  {
   "cell_type": "markdown",
   "metadata": {},
   "source": [
    "- ### Ex 3 : Check TitleInput value change and act on it."
   ]
  },
  {
   "cell_type": "code",
   "execution_count": null,
   "metadata": {},
   "outputs": [],
   "source": [
    "#!/usr/bin/env python\n",
    "\n",
    "import npyscreen\n",
    "from IPy import IP\n",
    "\n",
    "\n",
    "def is_valid_ip(addr):\n",
    "    try:\n",
    "        IP(addr)\n",
    "        return True\n",
    "    except:\n",
    "        return False\n",
    "\n",
    "\n",
    "class IPInputWidget(npyscreen.Textfield):\n",
    "    def when_value_edited(self):\n",
    "    # doesn't seem to be called\n",
    "        if not is_valid_ip(self.value):\n",
    "            self.color = \"WARNING\"\n",
    "        else:\n",
    "            self.color = \"DEFAULT\"\n",
    "\n",
    "        self.update()\n",
    "\n",
    "class TitleInput(npyscreen.TitleText):\n",
    "    _entry_type = IPInputWidget\n",
    "\n",
    "class SetupForm(npyscreen.ActionForm):\n",
    "    def afterEditing(self):\n",
    "        self.parentApp.setNextForm(None)\n",
    "\n",
    "    def create(self):\n",
    "        self.ip = self.add(TitleInput, name='IP Address', value=\"127.0.0.1\")\n",
    "\n",
    "    def on_ok(self):\n",
    "        errors = []\n",
    "        if not is_valid_ip(self.ip.value):\n",
    "            errors.append(\"Invalid IP Address: %s\" % (self.ip.value,))\n",
    "\n",
    "        if len(errors) > 0:\n",
    "            errors = [\" - \" + e for e in errors]\n",
    "            str_errors = \"\\n\".join(errors)\n",
    "            npyscreen.notify_confirm(\"Please fix the following: \\n%s\"\n",
    "            % (str_errors,))\n",
    "            self.editing = True\n",
    "            return\n",
    "\n",
    "# do something that takes a little while\n",
    "        npyscreen.notify(\"busy... please wait...\") \n",
    "\n",
    "# do something that takes time\n",
    "\n",
    "# remove notification\n",
    "\n",
    "        npyscreen.notify_wait(\"Saved changes.\")\n",
    "\n",
    "\n",
    "    def on_cancel(self):\n",
    "        npyscreen.notify_wait(\"No changes were saved.\")\n",
    "\n",
    "\n",
    "class MyApplication(npyscreen.NPSAppManaged):\n",
    "    def onStart(self):\n",
    "        npyscreen.setTheme(npyscreen.Themes.DefaultTheme)\n",
    "        self.addForm('MAIN', SetupForm, name=\"Hello\")\n",
    "\n",
    "\n",
    "if __name__ == '__main__':\n",
    "    TestApp = MyApplication()\n",
    "\n",
    "try:\n",
    "    TestApp.run()\n",
    "except KeyboardInterrupt:\n",
    "    pass"
   ]
  },
  {
   "cell_type": "markdown",
   "metadata": {},
   "source": [
    "- ### Output 3"
   ]
  },
  {
   "cell_type": "code",
   "execution_count": 6,
   "metadata": {},
   "outputs": [
    {
     "data": {
      "image/png": "[encoded data removed]",
      "text/plain": [
       "<Figure size 432x288 with 1 Axes>"
      ]
     },
     "metadata": {
      "needs_background": "light"
     },
     "output_type": "display_data"
    }
   ],
   "source": [
    "im_array = np.asarray(cv2.imread('ex3_ipcheck.png'))\n",
    "plt.imshow(im_array)\n",
    "plt.show()"
   ]
  },
  {
   "cell_type": "markdown",
   "metadata": {},
   "source": [
    "---------------------------------------------"
   ]
  },
  {
   "cell_type": "markdown",
   "metadata": {},
   "source": [
    "- ### Ex 4 : Jump to certain point when hit enter on another point"
   ]
  },
  {
   "cell_type": "code",
   "execution_count": null,
   "metadata": {},
   "outputs": [],
   "source": [
    "import curses\n",
    "import npyscreen\n",
    "import random\n",
    "\n",
    "class MyGrid(npyscreen.GridColTitles):\n",
    "    # You need to override custom_print_cell to manipulate how\n",
    "    # a cell is printed. In this example we change the color of the\n",
    "    # text depending on the string value of cell.\n",
    "    def custom_print_cell(self, actual_cell, cell_display_value):\n",
    "        if cell_display_value =='FAIL':\n",
    "           actual_cell.color = 'DANGER'\n",
    "        elif cell_display_value == 'PASS':\n",
    "           actual_cell.color = 'GOOD'\n",
    "        else:\n",
    "           actual_cell.color = 'DEFAULT'\n",
    "\n",
    "\n",
    "\n",
    "\n",
    "class nuevoIngreso(npyscreen.FormBaseNew):\n",
    "    def afterEditing(self):\n",
    "\n",
    "        self.parentApp.setNextForm(None)\n",
    "\n",
    "\n",
    "    def create(self):\n",
    "        self.myDepartment = self.add(npyscreen.TitleSelectOne, scroll_exit=True, max_height=3, name='Departmento', values = ['M', 'C', 'L'])\n",
    "        self.myCodigo = self.add(npyscreen.TitleText, name='CODIGO: ')\n",
    "        self.myDescripcion = self.add(npyscreen.TitleText, name='DESCRIPCION: ')\n",
    "        self.myKit = self.add(npyscreen.TitleText, name='UN/KIT: ')\n",
    "        self.myPrecio = self.add(npyscreen.TitleText, name='$/UN')\n",
    "        self.myGrid = self.add(MyGrid,select_whole_line = True,editable = False)\n",
    "        self.myPrecio.entry_widget.handlers.update({curses.ascii.CR: self.input_send})\n",
    "\n",
    "        # Adding values to the Grid, this code just randomly\n",
    "        # fills a 2 x 4 grid with random PASS/FAIL strings.\n",
    "        self.myGrid.values = []\n",
    "        for x in range(3):\n",
    "            row = []\n",
    "            for y in range(4):\n",
    "                if bool(random.getrandbits(1)):\n",
    "                    row.append(\"PASS\")\n",
    "                else:\n",
    "                    row.append(\"FAIL\")\n",
    "            self.myGrid.values.append(row)\n",
    "\n",
    "    def input_send(self, _input):\n",
    "\n",
    "        #self.myCodigo.editing = False\n",
    "        #self.myDescripcion.editing = False\n",
    "        #self.myKit.editing = False\n",
    "        #self.myGrid.editing = False\n",
    "        #self.myPrecio.editing =\n",
    "        self.display()\n",
    "        self.editw=1\n",
    "        self.myPrecio.editing = False\n",
    "        self.editing = False\n",
    "        self.edit()\n",
    "\n",
    "\n",
    "class MyApplication(npyscreen.NPSAppManaged):\n",
    "    def onStart(self):\n",
    "        F=self.addForm('MAIN', nuevoIngreso, name='Nuevo Ingreso')\n",
    "        # A real application might define more forms here.......\n",
    "\n",
    "\n",
    "\n",
    "if __name__ == '__main__':\n",
    "    TestApp = MyApplication().run()\n"
   ]
  },
  {
   "cell_type": "markdown",
   "metadata": {},
   "source": [
    "- ### Output 4"
   ]
  },
  {
   "cell_type": "code",
   "execution_count": 7,
   "metadata": {},
   "outputs": [
    {
     "data": {
      "image/png": "[encoded data removed]",
      "text/plain": [
       "<Figure size 432x288 with 1 Axes>"
      ]
     },
     "metadata": {
      "needs_background": "light"
     },
     "output_type": "display_data"
    }
   ],
   "source": [
    "im_array = np.asarray(cv2.imread('ex4_jump.PNG'))\n",
    "plt.imshow(im_array)\n",
    "plt.show()"
   ]
  },
  {
   "cell_type": "markdown",
   "metadata": {},
   "source": [
    "--------------------------------------------"
   ]
  },
  {
   "cell_type": "markdown",
   "metadata": {},
   "source": [
    "--------------------------------"
   ]
  },
  {
   "cell_type": "markdown",
   "metadata": {},
   "source": [
    "- ### Ex 5 : Some unsorted Examples "
   ]
  },
  {
   "cell_type": "markdown",
   "metadata": {},
   "source": [
    "### Search Like VIM"
   ]
  },
  {
   "cell_type": "code",
   "execution_count": 8,
   "metadata": {},
   "outputs": [
    {
     "data": {
      "image/png": "[encoded data removed]",
      "text/plain": [
       "<Figure size 432x288 with 1 Axes>"
      ]
     },
     "metadata": {
      "needs_background": "light"
     },
     "output_type": "display_data"
    }
   ],
   "source": [
    "im_array = np.asarray(cv2.imread('search.PNG'))\n",
    "plt.imshow(im_array)\n",
    "plt.show()"
   ]
  },
  {
   "cell_type": "markdown",
   "metadata": {},
   "source": [
    "### MultilineEditable"
   ]
  },
  {
   "cell_type": "code",
   "execution_count": 9,
   "metadata": {},
   "outputs": [
    {
     "data": {
      "image/png": "[encoded data removed]",
      "text/plain": [
       "<Figure size 432x288 with 1 Axes>"
      ]
     },
     "metadata": {
      "needs_background": "light"
     },
     "output_type": "display_data"
    }
   ],
   "source": [
    "im_array = np.asarray(cv2.imread('MultilineEditable.PNG'))\n",
    "plt.imshow(im_array)\n",
    "plt.show()"
   ]
  }
 ],
 "metadata": {
  "kernelspec": {
   "display_name": "Python 3.9.6 64-bit",
   "language": "python",
   "name": "python3"
  },
  "language_info": {
   "codemirror_mode": {
    "name": "ipython",
    "version": 3
   },
   "file_extension": ".py",
   "mimetype": "text/x-python",
   "name": "python",
   "nbconvert_exporter": "python",
   "pygments_lexer": "ipython3",
   "version": "3.9.6"
  },
  "orig_nbformat": 4,
  "vscode": {
   "interpreter": {
    "hash": "84a205566571b68d373271bc5793e97597298328d6c5101000eb31d16de1a150"
   }
  }
 },
 "nbformat": 4,
 "nbformat_minor": 2
}
