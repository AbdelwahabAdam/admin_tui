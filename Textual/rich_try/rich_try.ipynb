{
 "cells": [
  {
   "cell_type": "code",
   "execution_count": 55,
   "metadata": {},
   "outputs": [
    {
     "data": {
      "text/html": [
       "<pre style=\"white-space:pre;overflow-x:auto;line-height:normal;font-family:Menlo,'DejaVu Sans Mono',consolas,'Courier New',monospace\">╭─────────────────────────────────────────────────────────────────────────────────────────────────────────────────╮\n",
       "│ <span style=\"font-weight: bold\">Choose One</span>                                                                                                      │\n",
       "╰─────────────────────────────────────────────────────────────────────────────────────────────────────────────────╯\n",
       "<span style=\"color: #000080; text-decoration-color: #000080\">╔═══════════════════════════════════════════════════ Spinners ════════════════════════════════════════════════════╗</span>\n",
       "<span style=\"color: #000080; text-decoration-color: #000080\">║</span> ▪ <span style=\"color: #008000; text-decoration-color: #008000\">'toggle4'</span>    ▪ <span style=\"color: #008000; text-decoration-color: #008000\">'toggle4'</span>   ▪ <span style=\"color: #008000; text-decoration-color: #008000\">'toggle4'</span>   ▪ <span style=\"color: #008000; text-decoration-color: #008000\">'toggle4'</span>   ▪ <span style=\"color: #008000; text-decoration-color: #008000\">'toggle4'</span>   ▪ <span style=\"color: #008000; text-decoration-color: #008000\">'toggle4'</span>   ▪ <span style=\"color: #008000; text-decoration-color: #008000\">'toggle4'</span>   ▪ <span style=\"color: #008000; text-decoration-color: #008000\">'toggle4'</span>  <span style=\"color: #000080; text-decoration-color: #000080\">║</span>\n",
       "<span style=\"color: #000080; text-decoration-color: #000080\">╚═════════════════════════════════════════════════════════════════════════════════════════════════════════════════╝</span>\n",
       "</pre>\n"
      ],
      "text/plain": [
       "╭─────────────────────────────────────────────────────────────────────────────────────────────────────────────────╮\n",
       "│ \u001b[1mChoose One\u001b[0m                                                                                                      │\n",
       "╰─────────────────────────────────────────────────────────────────────────────────────────────────────────────────╯\n",
       "\u001b[34m╔═\u001b[0m\u001b[34m══════════════════════════════════════════════════ Spinners ═══════════════════════════════════════════════════\u001b[0m\u001b[34m═╗\u001b[0m\n",
       "\u001b[34m║\u001b[0m ▪ \u001b[32m'toggle4'\u001b[0m    ▪ \u001b[32m'toggle4'\u001b[0m   ▪ \u001b[32m'toggle4'\u001b[0m   ▪ \u001b[32m'toggle4'\u001b[0m   ▪ \u001b[32m'toggle4'\u001b[0m   ▪ \u001b[32m'toggle4'\u001b[0m   ▪ \u001b[32m'toggle4'\u001b[0m   ▪ \u001b[32m'toggle4'\u001b[0m  \u001b[34m║\u001b[0m\n",
       "\u001b[34m╚═════════════════════════════════════════════════════════════════════════════════════════════════════════════════╝\u001b[0m\n"
      ]
     },
     "execution_count": 55,
     "metadata": {},
     "output_type": "execute_result"
    }
   ],
   "source": [
    "\"\"\"\n",
    "This example shows how to display content in columns.\n",
    "\n",
    "The data is pulled from https://randomuser.me\n",
    "\"\"\"\n",
    "\n",
    "import json\n",
    "from urllib.request import urlopen\n",
    "\n",
    "from rich.console import Console\n",
    "from rich.columns import Columns\n",
    "from rich.panel import Panel\n",
    "from rich.text import Text\n",
    "from rich.spinner import Spinner, SPINNERS\n",
    "from rich.box import ROUNDED, Box\n",
    "\n",
    "console = Console()\n",
    "all_spinners = Columns(\n",
    "    [\n",
    "        Spinner('toggle4', text=Text(repr('toggle4'), style=\"green\")),\n",
    "        Spinner('toggle4', text=Text(repr('toggle4'), style=\"green\")),\n",
    "        Spinner('toggle4', text=Text(repr('toggle4'), style=\"green\")),\n",
    "        Spinner('toggle4', text=Text(repr('toggle4'), style=\"green\")),\n",
    "        Spinner('toggle4', text=Text(repr('toggle4'), style=\"green\")),\n",
    "        Spinner('toggle4', text=Text(repr('toggle4'), style=\"green\")),\n",
    "        Spinner('toggle4', text=Text(repr('toggle4'), style=\"green\")),\n",
    "        Spinner('toggle4', text=Text(repr('toggle4'), style=\"green\")),\n",
    "    ],\n",
    "    column_first=False,\n",
    "    expand=True,)\n",
    "Panel(all_spinners, title=\"Spinners\", border_style=\"blue\")\n",
    "user_renderables = [Panel('[b]Choose One[/b]', expand=True),\n",
    "Panel(all_spinners, title=\"Spinners\", border_style=\"blue\",box=box.DOUBLE) ]\n",
    "Columns(user_renderables)"
   ]
  },
  {
   "cell_type": "code",
   "execution_count": 50,
   "metadata": {},
   "outputs": [
    {
     "data": {
      "text/html": [
       "<pre style=\"white-space:pre;overflow-x:auto;line-height:normal;font-family:Menlo,'DejaVu Sans Mono',consolas,'Courier New',monospace\"><span style=\"font-style: italic\">      Choose One       </span>\n",
       "<span style=\"font-weight: bold\"> Released              </span>\n",
       "<span style=\"color: #008080; text-decoration-color: #008080\">          </span> ■ <span style=\"color: #008000; text-decoration-color: #008000\">'toggle4'</span> \n",
       "<span style=\"color: #008080; text-decoration-color: #008080\">          </span> ■ <span style=\"color: #008000; text-decoration-color: #008000\">'toggle4'</span> \n",
       "<span style=\"color: #008080; text-decoration-color: #008080\">          </span> ■ <span style=\"color: #008000; text-decoration-color: #008000\">'toggle4'</span> \n",
       "<span style=\"color: #008080; text-decoration-color: #008080\">          </span> ■ <span style=\"color: #008000; text-decoration-color: #008000\">'toggle4'</span> \n",
       "</pre>\n"
      ],
      "text/plain": [
       "\u001b[3m      Choose One       \u001b[0m\n",
       "\u001b[1m \u001b[0m\u001b[1mReleased\u001b[0m\u001b[1m \u001b[0m\u001b[1m \u001b[0m\u001b[1m           \u001b[0m\u001b[1m \u001b[0m\n",
       "\u001b[36m \u001b[0m\u001b[36m        \u001b[0m\u001b[36m \u001b[0m ■ \u001b[32m'toggle4'\u001b[0m \n",
       "\u001b[36m \u001b[0m\u001b[36m        \u001b[0m\u001b[36m \u001b[0m ■ \u001b[32m'toggle4'\u001b[0m \n",
       "\u001b[36m \u001b[0m\u001b[36m        \u001b[0m\u001b[36m \u001b[0m ■ \u001b[32m'toggle4'\u001b[0m \n",
       "\u001b[36m \u001b[0m\u001b[36m        \u001b[0m\u001b[36m \u001b[0m ■ \u001b[32m'toggle4'\u001b[0m \n"
      ]
     },
     "execution_count": 50,
     "metadata": {},
     "output_type": "execute_result"
    }
   ],
   "source": [
    "\"\"\"\n",
    "Demonstrates how to render a table.\n",
    "\"\"\"\n",
    "\n",
    "from rich.console import Console\n",
    "from rich.table import Table\n",
    "\n",
    "table = Table(title=\"Choose One\",box=None)\n",
    "\n",
    "table.add_column(\"Released\", style=\"cyan\", no_wrap=True)\n",
    "\n",
    "\n",
    "table.add_row('',Spinner('toggle4', text=Text(repr('toggle4'), style=\"green\")))\n",
    "table.add_row('',Spinner('toggle4', text=Text(repr('toggle4'), style=\"green\")))\n",
    "table.add_row('',Spinner('toggle4', text=Text(repr('toggle4'), style=\"green\")))\n",
    "table.add_row('',Spinner('toggle4', text=Text(repr('toggle4'), style=\"green\")))\n",
    "\n",
    "console = Console()\n",
    "# console.print(table, justify=\"center\")\n",
    "user_renderables = [table]\n",
    "Columns(user_renderables)"
   ]
  },
  {
   "cell_type": "code",
   "execution_count": 2,
   "metadata": {},
   "outputs": [
    {
     "data": {
      "text/html": [
       "<pre style=\"white-space:pre;overflow-x:auto;line-height:normal;font-family:Menlo,'DejaVu Sans Mono',consolas,'Courier New',monospace\">╭─────────────────────────────────────────────────────────────────────────────────────────────────────────────────╮\n",
       "│                                                                                                                 │\n",
       "│   self.title                                                                                                    │\n",
       "│                                                                                                                 │\n",
       "│ self.data (*)                                                                                                   │\n",
       "╰─────────────────────────────────────────────────────────────────────────────────────────────────────────────────╯\n",
       "</pre>\n"
      ],
      "text/plain": [
       "╭─────────────────────────────────────────────────────────────────────────────────────────────────────────────────╮\n",
       "│                                                                                                                 │\n",
       "│   self.title                                                                                                    │\n",
       "│                                                                                                                 │\n",
       "│ self.data (*)                                                                                                   │\n",
       "╰─────────────────────────────────────────────────────────────────────────────────────────────────────────────────╯\n"
      ]
     },
     "metadata": {},
     "output_type": "display_data"
    }
   ],
   "source": [
    "from rich import print\n",
    "from rich.console import Group\n",
    "from rich.panel import Panel\n",
    "from rich.spinner import Spinner\n",
    "from rich.style import StyleType\n",
    "from rich.table import Table\n",
    "from rich.console import RenderableType\n",
    "from rich.text import Text\n",
    "from typing import  Optional\n",
    "import rich\n",
    "# ----------------------------------------------------------------------------------#\n",
    "class Custom_Radio_spinner (Spinner):\n",
    "\n",
    "    # sign: Reactive[RenderableType] = Reactive(\"\")\n",
    "\n",
    "    def __init__(self, name: str, widName,text: \"RenderableType\" = \"\", *, style: Optional[\"StyleType\"] = None, sign = None, speed: float = 1) -> None:\n",
    "        super().__init__(name, text, style=style,speed=speed,)\n",
    "        self.sign = sign\n",
    "        self.widName = widName\n",
    "    # ------------------------------------------------------------------------------#\n",
    "    # ------------------------------------------------------------------------------#\n",
    "\n",
    "    def render(self, time: float) -> \"RenderableType\":\n",
    "        \n",
    "        if self.speed ==1 :\n",
    "            frame_no =  self.frame_no_offset + 7\n",
    "            frame = Text(\n",
    "            self.frames[int(frame_no) % len(self.frames)], style='blue' )\n",
    "        else :\n",
    "            frame_no =  self.frame_no_offset \n",
    "            frame = Text(\n",
    "            self.frames[int(frame_no) % len(self.frames)], style='red' )\n",
    "\n",
    "        if not self.text:\n",
    "            return frame\n",
    "        if isinstance(self.text, (str, Text)):\n",
    "            return Text.assemble(self.text, \" (\", str(self.sign) ,\")\")\n",
    "        else:\n",
    "            table = Table.grid(padding=1)\n",
    "            table.add_row(frame, self.text)\n",
    "            return table\n",
    "\n",
    "# ----------------------------------------------------------------------------------#\n",
    "panel_group = Group(\n",
    "                Panel('self.title',box=rich.box.MINIMAL,),\n",
    "                Custom_Radio_spinner(name='toggle7', text='self.data',speed=1,sign='*',widName='self.name' ),\n",
    "            )\n",
    "print(Panel(panel_group))"
   ]
  },
  {
   "cell_type": "code",
   "execution_count": 12,
   "metadata": {},
   "outputs": [
    {
     "data": {
      "text/html": [
       "<pre style=\"white-space:pre;overflow-x:auto;line-height:normal;font-family:Menlo,'DejaVu Sans Mono',consolas,'Courier New',monospace\"><span style=\"color: #c0c0c0; text-decoration-color: #c0c0c0; background-color: #800000; font-weight: bold\">╭──────╮</span>\n",
       "<span style=\"color: #c0c0c0; text-decoration-color: #c0c0c0; background-color: #800000; font-weight: bold\">│ Rich │</span>\n",
       "<span style=\"color: #c0c0c0; text-decoration-color: #c0c0c0; background-color: #800000; font-weight: bold\">╰──────╯</span>\n",
       "</pre>\n"
      ],
      "text/plain": [
       "\u001b[1;37;41m╭──────╮\u001b[0m\n",
       "\u001b[1;37;41m│\u001b[0m\u001b[1;37;41m \u001b[0m\u001b[1;37;41mRich\u001b[0m\u001b[1;37;41m \u001b[0m\u001b[1;37;41m│\u001b[0m\n",
       "\u001b[1;37;41m╰──────╯\u001b[0m\n"
      ]
     },
     "metadata": {},
     "output_type": "display_data"
    },
    {
     "data": {
      "text/html": [
       "<pre style=\"white-space:pre;overflow-x:auto;line-height:normal;font-family:Menlo,'DejaVu Sans Mono',consolas,'Courier New',monospace\"><span style=\"color: #c0c0c0; text-decoration-color: #c0c0c0; background-color: #800000; font-weight: bold\">╭──────╮</span><span style=\"color: #c0c0c0; text-decoration-color: #c0c0c0; background-color: #000080; font-weight: bold\">            </span>\n",
       "<span style=\"color: #c0c0c0; text-decoration-color: #c0c0c0; background-color: #800000; font-weight: bold\">│ Rich │</span><span style=\"color: #c0c0c0; text-decoration-color: #c0c0c0; background-color: #000080; font-weight: bold\">            </span>\n",
       "<span style=\"color: #c0c0c0; text-decoration-color: #c0c0c0; background-color: #800000; font-weight: bold\">╰──────╯</span><span style=\"color: #c0c0c0; text-decoration-color: #c0c0c0; background-color: #000080; font-weight: bold\">            </span>\n",
       "</pre>\n"
      ],
      "text/plain": [
       "\u001b[1;37;41m╭──────╮\u001b[0m\u001b[1;37;44m            \u001b[0m\n",
       "\u001b[1;37;41m│\u001b[0m\u001b[1;37;41m \u001b[0m\u001b[1;37;41mRich\u001b[0m\u001b[1;37;41m \u001b[0m\u001b[1;37;41m│\u001b[0m\u001b[1;37;44m            \u001b[0m\n",
       "\u001b[1;37;41m╰──────╯\u001b[0m\u001b[1;37;44m            \u001b[0m\n"
      ]
     },
     "metadata": {},
     "output_type": "display_data"
    },
    {
     "data": {
      "text/html": [
       "<pre style=\"white-space:pre;overflow-x:auto;line-height:normal;font-family:Menlo,'DejaVu Sans Mono',consolas,'Courier New',monospace\"><span style=\"color: #c0c0c0; text-decoration-color: #c0c0c0; background-color: #000080; font-weight: bold\">      </span><span style=\"color: #c0c0c0; text-decoration-color: #c0c0c0; background-color: #800000; font-weight: bold\">╭──────╮</span><span style=\"color: #c0c0c0; text-decoration-color: #c0c0c0; background-color: #000080; font-weight: bold\">      </span>\n",
       "<span style=\"color: #c0c0c0; text-decoration-color: #c0c0c0; background-color: #000080; font-weight: bold\">      </span><span style=\"color: #c0c0c0; text-decoration-color: #c0c0c0; background-color: #800000; font-weight: bold\">│ Rich │</span><span style=\"color: #c0c0c0; text-decoration-color: #c0c0c0; background-color: #000080; font-weight: bold\">      </span>\n",
       "<span style=\"color: #c0c0c0; text-decoration-color: #c0c0c0; background-color: #000080; font-weight: bold\">      </span><span style=\"color: #c0c0c0; text-decoration-color: #c0c0c0; background-color: #800000; font-weight: bold\">╰──────╯</span><span style=\"color: #c0c0c0; text-decoration-color: #c0c0c0; background-color: #000080; font-weight: bold\">      </span>\n",
       "</pre>\n"
      ],
      "text/plain": [
       "\u001b[1;37;44m      \u001b[0m\u001b[1;37;41m╭──────╮\u001b[0m\u001b[1;37;44m      \u001b[0m\n",
       "\u001b[1;37;44m      \u001b[0m\u001b[1;37;41m│\u001b[0m\u001b[1;37;41m \u001b[0m\u001b[1;37;41mRich\u001b[0m\u001b[1;37;41m \u001b[0m\u001b[1;37;41m│\u001b[0m\u001b[1;37;44m      \u001b[0m\n",
       "\u001b[1;37;44m      \u001b[0m\u001b[1;37;41m╰──────╯\u001b[0m\u001b[1;37;44m      \u001b[0m\n"
      ]
     },
     "metadata": {},
     "output_type": "display_data"
    },
    {
     "data": {
      "text/html": [
       "<pre style=\"white-space:pre;overflow-x:auto;line-height:normal;font-family:Menlo,'DejaVu Sans Mono',consolas,'Courier New',monospace\"><span style=\"color: #c0c0c0; text-decoration-color: #c0c0c0; background-color: #000080; font-weight: bold\">            </span><span style=\"color: #c0c0c0; text-decoration-color: #c0c0c0; background-color: #800000; font-weight: bold\">╭──────╮</span>\n",
       "<span style=\"color: #c0c0c0; text-decoration-color: #c0c0c0; background-color: #000080; font-weight: bold\">            </span><span style=\"color: #c0c0c0; text-decoration-color: #c0c0c0; background-color: #800000; font-weight: bold\">│ Rich │</span>\n",
       "<span style=\"color: #c0c0c0; text-decoration-color: #c0c0c0; background-color: #000080; font-weight: bold\">            </span><span style=\"color: #c0c0c0; text-decoration-color: #c0c0c0; background-color: #800000; font-weight: bold\">╰──────╯</span>\n",
       "</pre>\n"
      ],
      "text/plain": [
       "\u001b[1;37;44m            \u001b[0m\u001b[1;37;41m╭──────╮\u001b[0m\n",
       "\u001b[1;37;44m            \u001b[0m\u001b[1;37;41m│\u001b[0m\u001b[1;37;41m \u001b[0m\u001b[1;37;41mRich\u001b[0m\u001b[1;37;41m \u001b[0m\u001b[1;37;41m│\u001b[0m\n",
       "\u001b[1;37;44m            \u001b[0m\u001b[1;37;41m╰──────╯\u001b[0m\n"
      ]
     },
     "metadata": {},
     "output_type": "display_data"
    }
   ],
   "source": [
    "\"\"\"\n",
    "This example demonstrates the justify argument to print.\n",
    "\"\"\"\n",
    "\n",
    "from rich.console import Console\n",
    "from rich.panel import Panel\n",
    "\n",
    "console = Console(width=20)\n",
    "\n",
    "style = \"bold white on blue\"\n",
    "panel = Panel(\"Rich\", style=\"on red\", expand=False)\n",
    "console.print(panel, style=style)\n",
    "console.print(panel, style=style, justify=\"left\")\n",
    "console.print(panel, style=style, justify=\"center\")\n",
    "console.print(panel, style=style, justify=\"right\")"
   ]
  },
  {
   "cell_type": "code",
   "execution_count": 11,
   "metadata": {},
   "outputs": [
    {
     "data": {
      "text/html": [
       "<pre style=\"white-space:pre;overflow-x:auto;line-height:normal;font-family:Menlo,'DejaVu Sans Mono',consolas,'Courier New',monospace\"><span style=\"color: #c0c0c0; text-decoration-color: #c0c0c0; background-color: #000080; font-weight: bold\">Rich</span>\n",
       "</pre>\n"
      ],
      "text/plain": [
       "\u001b[1;37;44mRich\u001b[0m\n"
      ]
     },
     "metadata": {},
     "output_type": "display_data"
    },
    {
     "data": {
      "text/html": [
       "<pre style=\"white-space:pre;overflow-x:auto;line-height:normal;font-family:Menlo,'DejaVu Sans Mono',consolas,'Courier New',monospace\"><span style=\"color: #c0c0c0; text-decoration-color: #c0c0c0; background-color: #000080; font-weight: bold\">Rich                </span>\n",
       "</pre>\n"
      ],
      "text/plain": [
       "\u001b[1;37;44mRich\u001b[0m\u001b[1;37;44m                \u001b[0m\n"
      ]
     },
     "metadata": {},
     "output_type": "display_data"
    },
    {
     "data": {
      "text/html": [
       "<pre style=\"white-space:pre;overflow-x:auto;line-height:normal;font-family:Menlo,'DejaVu Sans Mono',consolas,'Courier New',monospace\"><span style=\"color: #c0c0c0; text-decoration-color: #c0c0c0; background-color: #000080; font-weight: bold\">        Rich        </span>\n",
       "</pre>\n"
      ],
      "text/plain": [
       "\u001b[1;37;44m        \u001b[0m\u001b[1;37;44mRich\u001b[0m\u001b[1;37;44m        \u001b[0m\n"
      ]
     },
     "metadata": {},
     "output_type": "display_data"
    },
    {
     "data": {
      "text/html": [
       "<pre style=\"white-space:pre;overflow-x:auto;line-height:normal;font-family:Menlo,'DejaVu Sans Mono',consolas,'Courier New',monospace\"><span style=\"color: #c0c0c0; text-decoration-color: #c0c0c0; background-color: #000080; font-weight: bold\">                Rich</span>\n",
       "</pre>\n"
      ],
      "text/plain": [
       "\u001b[1;37;44m                \u001b[0m\u001b[1;37;44mRich\u001b[0m\n"
      ]
     },
     "metadata": {},
     "output_type": "display_data"
    }
   ],
   "source": [
    "\"\"\"\n",
    "This example demonstrates the justify argument to print.\n",
    "\"\"\"\n",
    "\n",
    "from rich.console import Console\n",
    "\n",
    "console = Console(width=20)\n",
    "\n",
    "style = \"bold white on blue\"\n",
    "console.print(\"Rich\", style=style)\n",
    "console.print(\"Rich\", style=style, justify=\"left\")\n",
    "console.print(\"Rich\", style=style, justify=\"center\")\n",
    "console.print(\"Rich\", style=style, justify=\"right\")"
   ]
  },
  {
   "cell_type": "code",
   "execution_count": 13,
   "metadata": {},
   "outputs": [
    {
     "data": {
      "application/vnd.jupyter.widget-view+json": {
       "model_id": "921bd07da7ee4d3a87f71cacdfdaa1e3",
       "version_major": 2,
       "version_minor": 0
      },
      "text/plain": [
       "Output()"
      ]
     },
     "metadata": {},
     "output_type": "display_data"
    },
    {
     "data": {
      "text/html": [
       "<pre style=\"white-space:pre;overflow-x:auto;line-height:normal;font-family:Menlo,'DejaVu Sans Mono',consolas,'Courier New',monospace\"></pre>\n"
      ],
      "text/plain": []
     },
     "metadata": {},
     "output_type": "display_data"
    }
   ],
   "source": [
    "\"\"\"\n",
    "\n",
    "Demonstrates a dynamic Layout\n",
    "\n",
    "\"\"\"\n",
    "\n",
    "from datetime import datetime\n",
    "\n",
    "from time import sleep\n",
    "\n",
    "from rich.align import Align\n",
    "from rich.console import Console\n",
    "from rich.layout import Layout\n",
    "from rich.live import Live\n",
    "from rich.text import Text\n",
    "\n",
    "console = Console()\n",
    "layout = Layout()\n",
    "\n",
    "layout.split(\n",
    "    Layout(name=\"header\", size=1),\n",
    "    Layout(ratio=1, name=\"main\"),\n",
    "    Layout(size=10, name=\"footer\"),\n",
    ")\n",
    "\n",
    "layout[\"main\"].split_row(Layout(name=\"side\"), Layout(name=\"body\", ratio=2))\n",
    "\n",
    "layout[\"side\"].split(Layout(), Layout())\n",
    "\n",
    "layout[\"body\"].update(\n",
    "    Align.center(\n",
    "        Text(\n",
    "            \"\"\"This is a demonstration of rich.Layout\\n\\nHit Ctrl+C to exit\"\"\",\n",
    "            justify=\"center\",\n",
    "        ),\n",
    "        vertical=\"middle\",\n",
    "    )\n",
    ")\n",
    "\n",
    "\n",
    "class Clock:\n",
    "    \"\"\"Renders the time in the center of the screen.\"\"\"\n",
    "\n",
    "    def __rich__(self) -> Text:\n",
    "        return Text(datetime.now().ctime(), style=\"bold magenta\", justify=\"center\")\n",
    "\n",
    "\n",
    "layout[\"header\"].update(Clock())\n",
    "\n",
    "with Live(layout, screen=True, redirect_stderr=False) as live:\n",
    "    try:\n",
    "        while True:\n",
    "            sleep(1)\n",
    "    except KeyboardInterrupt:\n",
    "        pass"
   ]
  },
  {
   "cell_type": "code",
   "execution_count": 18,
   "metadata": {},
   "outputs": [
    {
     "data": {
      "text/html": [
       "<pre style=\"white-space:pre;overflow-x:auto;line-height:normal;font-family:Menlo,'DejaVu Sans Mono',consolas,'Courier New',monospace\"><span style=\"background-color: #000080\">             </span>\n",
       "<span style=\"background-color: #000080\">             </span>\n",
       "<span style=\"background-color: #000080\">    Hello    </span>\n",
       "<span style=\"background-color: #000080\">             </span>\n",
       "<span style=\"background-color: #000080\">             </span>\n",
       "</pre>\n"
      ],
      "text/plain": [
       "\u001b[44m             \u001b[0m\n",
       "\u001b[44m             \u001b[0m\n",
       "\u001b[44m    \u001b[0m\u001b[44mHello\u001b[0m\u001b[44m    \u001b[0m\n",
       "\u001b[44m             \u001b[0m\n",
       "\u001b[44m             \u001b[0m\n"
      ]
     },
     "metadata": {},
     "output_type": "display_data"
    }
   ],
   "source": [
    "from rich import print\n",
    "from rich.padding import Padding\n",
    "\n",
    "test = Padding(\"Hello\", (2, 4), style=\"on blue\", expand=False)\n",
    "print(test)"
   ]
  },
  {
   "cell_type": "code",
   "execution_count": null,
   "metadata": {},
   "outputs": [],
   "source": [
    "from textual.app import App\n",
    "from textual.widgets import Placeholder\n",
    "from textual_inputs import TextInput, IntegerInput\n",
    "from textual.reactive import Reactive\n",
    "import rich.repr\n",
    "from rich.console import RenderableType\n",
    "from rich.text import Text\n",
    "from rich.panel import Panel\n",
    "from rich.style import Style\n",
    "from typing import TYPE_CHECKING, Any, List, Optional, Tuple, Union\n",
    "from textual_inputs.events import InputOnChange, InputOnFocus, make_message_class\n",
    "from textual.widget import Widget\n",
    "from textual.driver import Driver\n",
    "from typing import Any, Callable, ClassVar, Type, TypeVar\n",
    "from textual import events\n",
    "from rich.console import Console\n",
    "from rich.table import Table\n",
    "from rich.console import Console\n",
    "from rich.columns import Columns\n",
    "from rich.panel import Panel\n",
    "from rich.text import Text\n",
    "from rich.spinner import Spinner, SPINNERS\n",
    "from rich.box import ROUNDED, Box\n",
    "# -------\n",
    "class custom_spinner (Spinner):\n",
    "    def __init__(self, name: str, text: \"RenderableType\" = \"\", *, style: Optional[\"StyleType\"] = None, speed: float = 1) -> None:\n",
    "        super().__init__(name, text, style=style,speed=speed)\n",
    "\n",
    "\n",
    "    def render(self, time: float) -> \"RenderableType\":\n",
    "        \"\"\"Render the spinner for a given time.\n",
    "\n",
    "        Args:\n",
    "            time (float): Time in seconds.\n",
    "\n",
    "        Returns:\n",
    "            RenderableType: A renderable containing animation frame.\n",
    "        \"\"\"\n",
    "        # if self.start_time is None:\n",
    "        #     self.start_time = 0\n",
    "\n",
    "        if self.speed ==1 :\n",
    "            frame_no =  self.frame_no_offset + 7\n",
    "            frame = Text(\n",
    "            self.frames[int(frame_no) % len(self.frames)], style='green' )\n",
    "        else :\n",
    "            frame_no =  self.frame_no_offset \n",
    "            frame = Text(\n",
    "            self.frames[int(frame_no) % len(self.frames)], style='red' )\n",
    "\n",
    "\n",
    "        # if self._update_speed:\n",
    "        #     self.frame_no_offset = frame_no\n",
    "        #     self.start_time = time\n",
    "        #     self.speed = self._update_speed\n",
    "        #     self._update_speed = 0.0\n",
    "\n",
    "        if not self.text:\n",
    "            return frame\n",
    "        if isinstance(self.text, (str, Text)):\n",
    "            return Text.assemble(frame, \" \", self.text)\n",
    "        else:\n",
    "            table = Table.grid(padding=1)\n",
    "            table.add_row(frame, self.text)\n",
    "            return table\n",
    "\n"
   ]
  },
  {
   "cell_type": "code",
   "execution_count": 12,
   "metadata": {},
   "outputs": [
    {
     "data": {
      "application/vnd.jupyter.widget-view+json": {
       "model_id": "c00e42a1419f4cd09dca45afe975010d",
       "version_major": 2,
       "version_minor": 0
      },
      "text/plain": [
       "Output()"
      ]
     },
     "metadata": {},
     "output_type": "display_data"
    },
    {
     "data": {
      "text/html": [
       "<pre style=\"white-space:pre;overflow-x:auto;line-height:normal;font-family:Menlo,'DejaVu Sans Mono',consolas,'Courier New',monospace\"></pre>\n"
      ],
      "text/plain": []
     },
     "metadata": {},
     "output_type": "display_data"
    },
    {
     "ename": "KeyboardInterrupt",
     "evalue": "",
     "output_type": "error",
     "traceback": [
      "\u001b[1;31m---------------------------------------------------------------------------\u001b[0m",
      "\u001b[1;31mKeyboardInterrupt\u001b[0m                         Traceback (most recent call last)",
      "\u001b[1;32mg:\\GLUU\\admin_tui\\To_git\\Textual\\rich_try\\rich_try.ipynb Cell 9\u001b[0m in \u001b[0;36m<cell line: 82>\u001b[1;34m()\u001b[0m\n\u001b[0;32m     <a href='vscode-notebook-cell:/g%3A/GLUU/admin_tui/To_git/Textual/rich_try/rich_try.ipynb#ch0000006?line=81'>82</a>\u001b[0m \u001b[39mwith\u001b[39;00m Live(\n\u001b[0;32m     <a href='vscode-notebook-cell:/g%3A/GLUU/admin_tui/To_git/Textual/rich_try/rich_try.ipynb#ch0000006?line=82'>83</a>\u001b[0m     Panel(all_spinners, title\u001b[39m=\u001b[39m\u001b[39m\"\u001b[39m\u001b[39mSpinners\u001b[39m\u001b[39m\"\u001b[39m, border_style\u001b[39m=\u001b[39m\u001b[39m\"\u001b[39m\u001b[39mblue\u001b[39m\u001b[39m\"\u001b[39m,width\u001b[39m=\u001b[39m\u001b[39m50\u001b[39m),\n\u001b[0;32m     <a href='vscode-notebook-cell:/g%3A/GLUU/admin_tui/To_git/Textual/rich_try/rich_try.ipynb#ch0000006?line=83'>84</a>\u001b[0m     refresh_per_second\u001b[39m=\u001b[39m\u001b[39m20\u001b[39m,\n\u001b[0;32m     <a href='vscode-notebook-cell:/g%3A/GLUU/admin_tui/To_git/Textual/rich_try/rich_try.ipynb#ch0000006?line=84'>85</a>\u001b[0m ) \u001b[39mas\u001b[39;00m live:\n\u001b[0;32m     <a href='vscode-notebook-cell:/g%3A/GLUU/admin_tui/To_git/Textual/rich_try/rich_try.ipynb#ch0000006?line=85'>86</a>\u001b[0m     \u001b[39mwhile\u001b[39;00m \u001b[39mTrue\u001b[39;00m:\n\u001b[1;32m---> <a href='vscode-notebook-cell:/g%3A/GLUU/admin_tui/To_git/Textual/rich_try/rich_try.ipynb#ch0000006?line=86'>87</a>\u001b[0m         sleep(\u001b[39m0.1\u001b[39;49m)\n",
      "\u001b[1;31mKeyboardInterrupt\u001b[0m: "
     ]
    },
    {
     "name": "stderr",
     "output_type": "stream",
     "text": [
      "sys:1: ResourceWarning: unclosed socket <zmq.Socket(zmq.PUSH) at 0x21261c1f580>\n",
      "ResourceWarning: Enable tracemalloc to get the object allocation traceback\n"
     ]
    }
   ],
   "source": [
    "from time import sleep\n",
    "\n",
    "from rich.columns import Columns\n",
    "from rich.panel import Panel\n",
    "from rich.live import Live\n",
    "from rich.text import Text\n",
    "from rich.spinner import Spinner, SPINNERS\n",
    "from textual.app import App\n",
    "from textual.widgets import Placeholder\n",
    "from textual_inputs import TextInput, IntegerInput\n",
    "from textual.reactive import Reactive\n",
    "import rich.repr\n",
    "from rich.console import RenderableType\n",
    "from rich.text import Text\n",
    "from rich.panel import Panel\n",
    "from rich.style import Style\n",
    "from typing import TYPE_CHECKING, Any, List, Optional, Tuple, Union\n",
    "from textual_inputs.events import InputOnChange, InputOnFocus, make_message_class\n",
    "from textual.widget import Widget\n",
    "from textual.driver import Driver\n",
    "from typing import Any, Callable, ClassVar, Type, TypeVar\n",
    "from textual import events\n",
    "from rich.console import Console\n",
    "from rich.table import Table\n",
    "from rich.console import Console\n",
    "from rich.columns import Columns\n",
    "from rich.panel import Panel\n",
    "from rich.text import Text\n",
    "from rich.spinner import Spinner, SPINNERS\n",
    "from rich.box import ROUNDED, Box\n",
    "# -------\n",
    "class custom_spinner (Spinner):\n",
    "    def __init__(self, name: str, text: \"RenderableType\" = \"\", *, style: Optional[\"StyleType\"] = None, speed: float = 1) -> None:\n",
    "        super().__init__(name, text, style=style,speed=speed)\n",
    "\n",
    "\n",
    "    def render(self, time: float) -> \"RenderableType\":\n",
    "        \"\"\"Render the spinner for a given time.\n",
    "\n",
    "        Args:\n",
    "            time (float): Time in seconds.\n",
    "\n",
    "        Returns:\n",
    "            RenderableType: A renderable containing animation frame.\n",
    "        \"\"\"\n",
    "        # if self.start_time is None:\n",
    "        #     self.start_time = 0\n",
    "\n",
    "        if self.speed ==1 :\n",
    "            frame_no =  self.frame_no_offset + 7\n",
    "            frame = Text(\n",
    "            self.frames[int(frame_no) % len(self.frames)], style='green' )\n",
    "        else :\n",
    "            frame_no =  self.frame_no_offset \n",
    "            frame = Text(\n",
    "            self.frames[int(frame_no) % len(self.frames)], style='red' )\n",
    "\n",
    "\n",
    "        # if self._update_speed:\n",
    "        #     self.frame_no_offset = frame_no\n",
    "        #     self.start_time = time\n",
    "        #     self.speed = self._update_speed\n",
    "        #     self._update_speed = 0.0\n",
    "\n",
    "        if not self.text:\n",
    "            return frame\n",
    "        if isinstance(self.text, (str, Text)):\n",
    "            return Text.assemble(frame, \" \", self.text)\n",
    "        else:\n",
    "            table = Table.grid(padding=1)\n",
    "            table.add_row(frame, self.text)\n",
    "            return table\n",
    "all_spinners = Columns(\n",
    "    [\n",
    "        custom_spinner('toggle7', text=Text(text='RadioButtons'),speed=1)\n",
    "        \n",
    "    ],\n",
    "    column_first=True,\n",
    "    expand=True,\n",
    ")\n",
    "\n",
    "with Live(\n",
    "    Panel(all_spinners, title=\"Spinners\", border_style=\"blue\",width=50),\n",
    "    refresh_per_second=20,\n",
    ") as live:\n",
    "    while True:\n",
    "        sleep(0.1)"
   ]
  },
  {
   "cell_type": "code",
   "execution_count": 46,
   "metadata": {},
   "outputs": [
    {
     "data": {
      "text/html": [
       "<pre style=\"white-space:pre;overflow-x:auto;line-height:normal;font-family:Menlo,'DejaVu Sans Mono',consolas,'Courier New',monospace\">                                             <span style=\"font-style: italic\">       Choose One       </span>                                              \n",
       "                                             <span style=\"font-weight: bold\"> Released               </span>                                              \n",
       "                                             <span style=\"color: #008080; text-decoration-color: #008080\">          </span> Dec 20, 2019                                               \n",
       "                                             <span style=\"color: #008080; text-decoration-color: #008080\">          </span> May 25, 2018                                               \n",
       "                                             <span style=\"color: #008080; text-decoration-color: #008080\">          </span> Dec 15, 2017                                               \n",
       "                                             <span style=\"color: #008080; text-decoration-color: #008080\">          </span> Dec 16, 2016                                               \n",
       "</pre>\n"
      ],
      "text/plain": [
       "                                             \u001b[3m       Choose One       \u001b[0m                                              \n",
       "                                             \u001b[1m \u001b[0m\u001b[1mReleased\u001b[0m\u001b[1m \u001b[0m\u001b[1m \u001b[0m\u001b[1m            \u001b[0m\u001b[1m \u001b[0m                                              \n",
       "                                             \u001b[36m \u001b[0m\u001b[36m        \u001b[0m\u001b[36m \u001b[0m Dec 20, 2019                                               \n",
       "                                             \u001b[36m \u001b[0m\u001b[36m        \u001b[0m\u001b[36m \u001b[0m May 25, 2018                                               \n",
       "                                             \u001b[36m \u001b[0m\u001b[36m        \u001b[0m\u001b[36m \u001b[0m Dec 15, 2017                                               \n",
       "                                             \u001b[36m \u001b[0m\u001b[36m        \u001b[0m\u001b[36m \u001b[0m Dec 16, 2016                                               \n"
      ]
     },
     "metadata": {},
     "output_type": "display_data"
    }
   ],
   "source": [
    "\"\"\"\n",
    "Demonstrates how to render a table.\n",
    "\"\"\"\n",
    "\n",
    "from rich.console import Console\n",
    "from rich.table import Table\n",
    "\n",
    "table = Table(title=\"Choose One\",box=None)\n",
    "\n",
    "table.add_column(\"Released\", style=\"cyan\", no_wrap=True)\n",
    "\n",
    "\n",
    "table.add_row('',\"Dec 20, 2019\")\n",
    "table.add_row('',\"May 25, 2018\")\n",
    "table.add_row('',\"Dec 15, 2017\")\n",
    "table.add_row('',\"Dec 16, 2016\")\n",
    "\n",
    "console = Console()\n",
    "console.print(table, justify=\"center\")"
   ]
  },
  {
   "cell_type": "code",
   "execution_count": 1,
   "metadata": {},
   "outputs": [
    {
     "data": {
      "application/vnd.jupyter.widget-view+json": {
       "model_id": "cd0c3dc468ad4b08a6ff61da7c9ea4ef",
       "version_major": 2,
       "version_minor": 0
      },
      "text/plain": [
       "Output()"
      ]
     },
     "metadata": {},
     "output_type": "display_data"
    },
    {
     "data": {
      "text/html": [
       "<pre style=\"white-space:pre;overflow-x:auto;line-height:normal;font-family:Menlo,'DejaVu Sans Mono',consolas,'Courier New',monospace\"></pre>\n"
      ],
      "text/plain": []
     },
     "metadata": {},
     "output_type": "display_data"
    },
    {
     "ename": "KeyboardInterrupt",
     "evalue": "",
     "output_type": "error",
     "traceback": [
      "\u001b[1;31m---------------------------------------------------------------------------\u001b[0m",
      "\u001b[1;31mKeyboardInterrupt\u001b[0m                         Traceback (most recent call last)",
      "\u001b[1;32mg:\\GLUU\\admin_tui\\To_git\\Textual\\rich_try\\rich_try.ipynb Cell 11\u001b[0m in \u001b[0;36m<cell line: 18>\u001b[1;34m()\u001b[0m\n\u001b[0;32m     <a href='vscode-notebook-cell:/g%3A/GLUU/admin_tui/To_git/Textual/rich_try/rich_try.ipynb#ch0000010?line=17'>18</a>\u001b[0m \u001b[39mwith\u001b[39;00m Live(\n\u001b[0;32m     <a href='vscode-notebook-cell:/g%3A/GLUU/admin_tui/To_git/Textual/rich_try/rich_try.ipynb#ch0000010?line=18'>19</a>\u001b[0m     Panel(all_spinners, title\u001b[39m=\u001b[39m\u001b[39m\"\u001b[39m\u001b[39mSpinners\u001b[39m\u001b[39m\"\u001b[39m, border_style\u001b[39m=\u001b[39m\u001b[39m\"\u001b[39m\u001b[39mblue\u001b[39m\u001b[39m\"\u001b[39m),\n\u001b[0;32m     <a href='vscode-notebook-cell:/g%3A/GLUU/admin_tui/To_git/Textual/rich_try/rich_try.ipynb#ch0000010?line=19'>20</a>\u001b[0m     refresh_per_second\u001b[39m=\u001b[39m\u001b[39m20\u001b[39m,\n\u001b[0;32m     <a href='vscode-notebook-cell:/g%3A/GLUU/admin_tui/To_git/Textual/rich_try/rich_try.ipynb#ch0000010?line=20'>21</a>\u001b[0m ) \u001b[39mas\u001b[39;00m live:\n\u001b[0;32m     <a href='vscode-notebook-cell:/g%3A/GLUU/admin_tui/To_git/Textual/rich_try/rich_try.ipynb#ch0000010?line=21'>22</a>\u001b[0m     \u001b[39mwhile\u001b[39;00m \u001b[39mTrue\u001b[39;00m:\n\u001b[1;32m---> <a href='vscode-notebook-cell:/g%3A/GLUU/admin_tui/To_git/Textual/rich_try/rich_try.ipynb#ch0000010?line=22'>23</a>\u001b[0m         sleep(\u001b[39m0.1\u001b[39;49m)\n",
      "\u001b[1;31mKeyboardInterrupt\u001b[0m: "
     ]
    }
   ],
   "source": [
    "from time import sleep\n",
    "\n",
    "from rich.columns import Columns\n",
    "from rich.panel import Panel\n",
    "from rich.live import Live\n",
    "from rich.text import Text\n",
    "from rich.spinner import Spinner, SPINNERS\n",
    "\n",
    "all_spinners = Columns(\n",
    "    [\n",
    "        Spinner(spinner_name, text=Text(repr(spinner_name), style=\"green\"))\n",
    "        for spinner_name in sorted(SPINNERS)\n",
    "    ],\n",
    "    column_first=True,\n",
    "    expand=True,\n",
    ")\n",
    "\n",
    "with Live(\n",
    "    Panel(all_spinners, title=\"Spinners\", border_style=\"blue\"),\n",
    "    refresh_per_second=20,\n",
    ") as live:\n",
    "    while True:\n",
    "        sleep(0.1)"
   ]
  }
 ],
 "metadata": {
  "kernelspec": {
   "display_name": "Python 3.9.6 64-bit",
   "language": "python",
   "name": "python3"
  },
  "language_info": {
   "codemirror_mode": {
    "name": "ipython",
    "version": 3
   },
   "file_extension": ".py",
   "mimetype": "text/x-python",
   "name": "python",
   "nbconvert_exporter": "python",
   "pygments_lexer": "ipython3",
   "version": "3.9.6"
  },
  "orig_nbformat": 4,
  "vscode": {
   "interpreter": {
    "hash": "84a205566571b68d373271bc5793e97597298328d6c5101000eb31d16de1a150"
   }
  }
 },
 "nbformat": 4,
 "nbformat_minor": 2
}
