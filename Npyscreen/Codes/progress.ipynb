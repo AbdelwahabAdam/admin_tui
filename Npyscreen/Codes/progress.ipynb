{
 "cells": [
  {
   "cell_type": "markdown",
   "metadata": {},
   "source": [
    "# The Admin TUI"
   ]
  },
  {
   "cell_type": "markdown",
   "metadata": {},
   "source": [
    "## Requiments\n",
    "- Only npyscreen is required\n",
    "- Official Doc.                 >>    https://npyscreen.readthedocs.io/index.html\n",
    "- detaild PDF doc. (relase 2)   >>    https://buildmedia.readthedocs.org/media/pdf/npyscreen/latest/npyscreen.pdf\n",
    "- Google group for Npyscreen    >>    https://groups.google.com/g/npyscreen\n",
    "- Offical Git                   >>    https://github.com/npcole/npyscreen "
   ]
  },
  {
   "cell_type": "markdown",
   "metadata": {},
   "source": [
    "--------------------------------------\n",
    "- This part to just show the images in the nootbook"
   ]
  },
  {
   "cell_type": "code",
   "execution_count": 2,
   "metadata": {},
   "outputs": [],
   "source": [
    "\n",
    "from PIL import Image\n",
    "import cv2\n",
    "import numpy as np\n",
    "import matplotlib.pyplot as plt\n"
   ]
  },
  {
   "cell_type": "markdown",
   "metadata": {},
   "source": [
    "---------------------------------"
   ]
  },
  {
   "cell_type": "markdown",
   "metadata": {},
   "source": [
    "- ### Part 1 : Make Boxes around Grid"
   ]
  },
  {
   "cell_type": "code",
   "execution_count": 1,
   "metadata": {},
   "outputs": [],
   "source": [
    "# !/usr/bin/env python\n",
    "### encoding: utf-8\n",
    "import npyscreen\n",
    "\n",
    "class MyGrid_H(npyscreen.GridColTitles):       \n",
    "    def custom_print_cell(self, actual_cell, cell_display_value):\n",
    "        \n",
    "        if cell_display_value in [\"Auth Server\", \"FIDO\",\"SCIM\",\n",
    "                     \"Config-API\",\"Client-API\", \"Scripts\"]:\n",
    "           actual_cell.color = 'GOOD'\n",
    "\n",
    "class InputBox_H(npyscreen.BoxTitle):\n",
    "    _contained_widget = MyGrid_H\n",
    "\n",
    "def myFunction(*args):\n",
    "    F = npyscreen.Form(name='Example viewer')\n",
    "    gd = F.add(InputBox_H, name=\"\",max_height=5,max_width=100,width = 50)\n",
    "    gd.values = []\n",
    "    gd.values.append(\n",
    "           [\"Auth Server\", \"FIDO\",\"SCIM\",\n",
    "                     \"Config-API\",\"Client-API\", \"Scripts\"])\n",
    "    myFW = F.add(npyscreen.TitleText,name=\"title text\", rely=10,relx=75)\n",
    "    F.edit()\n",
    "\n",
    "if __name__ == '__main__':\n",
    "    npyscreen.wrapper_basic(myFunction)"
   ]
  },
  {
   "cell_type": "markdown",
   "metadata": {},
   "source": [
    "- ### Output 1"
   ]
  },
  {
   "cell_type": "code",
   "execution_count": 3,
   "metadata": {},
   "outputs": [
    {
     "data": {
      "image/png": "[encoded data removed]",
      "text/plain": [
       "<Figure size 432x288 with 1 Axes>"
      ]
     },
     "metadata": {
      "needs_background": "light"
     },
     "output_type": "display_data"
    }
   ],
   "source": [
    "im_array = np.asarray(cv2.imread('grid_with_column.png'))\n",
    "plt.imshow(im_array)\n",
    "plt.show()"
   ]
  },
  {
   "cell_type": "markdown",
   "metadata": {},
   "source": [
    "---------------------------------------------------"
   ]
  },
  {
   "cell_type": "markdown",
   "metadata": {},
   "source": [
    "- ### Part 2 : Inhirit two diffrent calss from Box class and stracture rely,relx\n"
   ]
  },
  {
   "cell_type": "code",
   "execution_count": null,
   "metadata": {},
   "outputs": [],
   "source": [
    "import curses\n",
    "import npyscreen\n",
    "\n",
    "class MyGrid_H(npyscreen.GridColTitles): \n",
    "\n",
    "    def __init__(self, screen, col_titles=None, *args, **keywords):\n",
    "        super().__init__(screen, col_titles, *args, **keywords)\n",
    "        self.col_margin=4,\n",
    "        self.select_whole_line = False\n",
    "\n",
    "\n",
    "    def custom_print_cell(self, actual_cell, cell_display_value):\n",
    "        \n",
    "        if cell_display_value in [\"Auth Server\", \"FIDO\",\"SCIM\",\n",
    "                     \"Config-API\",\"Client-API\", \"Scripts\"]:\n",
    "           actual_cell.color = 'WHITE'\n",
    "\n",
    "class InputBox_H(npyscreen.BoxTitle):\n",
    "    _contained_widget = MyGrid_H\n",
    "    _contained_widget = npyscreen.TitleText\n",
    "\n",
    "def myFunction(*args):    \n",
    "    F = npyscreen.Form(name='',color=\"COLOR_GREEN\", labelColor='COLOR_GREEN')\n",
    "    F.add(npyscreen.TitleText,name=\"  Jassan Admin\",editable=False)\n",
    "    gd = F.add(InputBox_H, name=\"\",max_height=5,max_width=115)\n",
    "    gd.values = []\n",
    "    gd.values.append(\n",
    "           [\"Auth Server\", \"FIDO\",\"SCIM\",\n",
    "                     \"Config-API\",\"Client-API\", \"Scripts\"])\n",
    "\n",
    "    myFW = F.add(InputBox_H,name=\"title text\", rely=10,relx=60)\n",
    "    F.edit()\n",
    "        \n",
    "if __name__ == '__main__':\n",
    "    npyscreen.wrapper_basic(myFunction)"
   ]
  },
  {
   "cell_type": "markdown",
   "metadata": {},
   "source": [
    "- ### Output 2"
   ]
  },
  {
   "cell_type": "code",
   "execution_count": 4,
   "metadata": {},
   "outputs": [
    {
     "data": {
      "image/png": "[encoded data removed]",
      "text/plain": [
       "<Figure size 432x288 with 1 Axes>"
      ]
     },
     "metadata": {
      "needs_background": "light"
     },
     "output_type": "display_data"
    }
   ],
   "source": [
    "im_array = np.asarray(cv2.imread('spliting_multi_boxes.png'))\n",
    "plt.imshow(im_array)\n",
    "plt.show()"
   ]
  },
  {
   "cell_type": "markdown",
   "metadata": {},
   "source": [
    "----------------------------------------------------------------"
   ]
  },
  {
   "cell_type": "markdown",
   "metadata": {},
   "source": [
    "- ### Part 3 : Vertical Box with Data to select\n"
   ]
  },
  {
   "cell_type": "code",
   "execution_count": null,
   "metadata": {},
   "outputs": [],
   "source": [
    "import npyscreen\n",
    "\n",
    "class InputBox(npyscreen.BoxTitle):\n",
    "    _contained_widget = npyscreen.TitleText\n",
    "    _contained_widget_height = 2\n",
    "\n",
    "class Form1(npyscreen.Form):\n",
    "    def create(self):\n",
    "        self.add(npyscreen.TitleText,name=\"  Jassan Admin\",editable=False)##\n",
    "        \n",
    "        self.add(npyscreen.BoxTitle, name=\"\",\n",
    "                    custom_highlighting=True, values=[\"Basic\", \"Token\",\"Logout\",\n",
    "                     \"Timeout\",\"URIs\", \"Encription\",\"Client Properties\", \"Client Scripts\",\"Save\"],\n",
    "                     value=[1, ],max_height=12,max_width=25,)\n",
    "        self.add(npyscreen.TitleText,name='starting')\n",
    "\n",
    "\n",
    "    def afterEditing(self):\n",
    "        self.parentApp.setNextForm(None)\n",
    "\n",
    "    def display_value(self, vl):\n",
    "        return vl\n",
    "        \n",
    "        \n",
    "class HopaApp(npyscreen.NPSAppManaged):\n",
    "    def onStart(self):\n",
    "        npyscreen.setTheme(npyscreen.Themes.ColorfulTheme)\n",
    "        self.addForm(\"MAIN\",Form1, name=\"MAIN\" ) ##, color=\"CURSOR_INVERSE\", \n",
    "\n",
    "if __name__ == \"__main__\":\n",
    "    App = HopaApp()\n",
    "    App.run()\n"
   ]
  },
  {
   "cell_type": "markdown",
   "metadata": {},
   "source": [
    "- ### Output 3"
   ]
  },
  {
   "cell_type": "code",
   "execution_count": 5,
   "metadata": {},
   "outputs": [
    {
     "data": {
      "image/png": "[encoded data removed]",
      "text/plain": [
       "<Figure size 432x288 with 1 Axes>"
      ]
     },
     "metadata": {
      "needs_background": "light"
     },
     "output_type": "display_data"
    }
   ],
   "source": [
    "im_array = np.asarray(cv2.imread('part3_v_columns.PNG'))\n",
    "plt.imshow(im_array)\n",
    "plt.show()"
   ]
  },
  {
   "cell_type": "markdown",
   "metadata": {},
   "source": [
    "-----------------------------------"
   ]
  },
  {
   "cell_type": "markdown",
   "metadata": {},
   "source": [
    "### To DO Next\n",
    "- Merge all of them\n",
    "- Make certain value change on selection\n",
    "- make row width smaller (not all 6 appears)\n"
   ]
  },
  {
   "cell_type": "markdown",
   "metadata": {},
   "source": [
    "------------------------------------------\n",
    "13/7/2022"
   ]
  },
  {
   "cell_type": "markdown",
   "metadata": {},
   "source": [
    "----------------------------"
   ]
  },
  {
   "cell_type": "markdown",
   "metadata": {},
   "source": [
    "- ### Part 4 : Merging All of the above to reach to the desired format\n"
   ]
  },
  {
   "cell_type": "code",
   "execution_count": null,
   "metadata": {},
   "outputs": [],
   "source": [
    "#!/usr/bin/env python3\n",
    "import npyscreen\n",
    "\n",
    "######################### Classes to inherit from ########################\n",
    "\n",
    "\n",
    "class InputWidget(npyscreen.TitleText):\n",
    "    def __init__(self, *args, **keywords):\n",
    "        super(InputWidget, self).__init__(*args, **keywords)\n",
    "        self.name = 'test'\n",
    "##########################################################################\n",
    "\n",
    "\n",
    "class InputBox(npyscreen.BoxTitle):\n",
    "    _contained_widget = npyscreen.TitleText\n",
    "    _contained_widget_height = 2\n",
    "##########################################################################\n",
    "\n",
    "\n",
    "class multiContainedBox(npyscreen.BoxTitle):\n",
    "    _contained_widget = [InputWidget, InputWidget, InputWidget]\n",
    "\n",
    "    def make_contained_widget(self, contained_widget_arguments=None):\n",
    "        self._my_widgets = []\n",
    "        _rely = self.rely+1\n",
    "        _relx = self.relx+2\n",
    "        for widget in self._contained_widget:\n",
    "            self._my_widgets.append(widget(self.parent,\n",
    "                                    rely=_rely, relx=_relx,\n",
    "                                    max_width=self.width, max_height=10,\n",
    "                                           ))\n",
    "        self.entry_widget = self._my_widgets[1]\n",
    "\n",
    "    def update(self, clear=True):\n",
    "        if self.hidden and clear:\n",
    "            self.clear()\n",
    "            return False\n",
    "        elif self.hidden:\n",
    "            return False\n",
    "        super(multiContainedBox, self).update(clear=clear)\n",
    "        for w in self._my_widgets:\n",
    "            w.update(clear=clear)\n",
    "##########################################################################\n",
    "\n",
    "\n",
    "class MyGrid_H(npyscreen.GridColTitles):\n",
    "    def custom_print_cell(self, actual_cell, cell_display_value):\n",
    "\n",
    "        if cell_display_value in [\"Auth Server\", \"FIDO\", \"SCIM\",\n",
    "                                  \"Config-API\", \"Client-API\", \"Scripts\"]:\n",
    "            actual_cell.color = 'FORMDEFAULT'\n",
    "##########################################################################\n",
    "\n",
    "\n",
    "class InputBox_H(npyscreen.BoxTitle):\n",
    "    _contained_widget = MyGrid_H\n",
    "##########################################################################\n",
    "\n",
    "\n",
    "class MainForm(npyscreen.FormBaseNew):\n",
    "    def create(self):\n",
    "        self.add_handlers({\"^T\": self.change_forms})\n",
    "        y, x = self.useable_space()\n",
    "        # Title of the screen\n",
    "        self.Title = self.add(npyscreen.TitleText,\n",
    "                              name=\"Jassan admin\", value=None, editable=None)\n",
    "        # The  Main Navigation\n",
    "        self.gd = self.add(InputBox_H, name=\"\", max_height=5,\n",
    "                           max_width=110, relx=1, rely=3)\n",
    "        self.gd.values = []\n",
    "        self.gd.values.append(\n",
    "            [\"Auth Server\", \"FIDO\", \"SCIM\", \"Config-API\", \"Client-API\", \"Scripts\"])\n",
    "        # self.InputBox = self.add(multiContainedBox, name=\"Header\",max_height=5,max_width=110,relx=1, rely=3,value='hopa')\n",
    "\n",
    "        # The Side Navigation\n",
    "        self.list = self.add(npyscreen.BoxTitle, name=\"\",\n",
    "                             custom_highlighting=True, values=[\"Basic\", \"Token\", \"Logout\", \"Timeout\", \"URIs\", \"Encription\", \"Client Properties\", \"Client Scripts\", \"Save\"],\n",
    "                             value=[], max_height=20, max_width=24, relx=1, rely=8)\n",
    "\n",
    "        # self.InputBox2 = self.add(multiContainedBox, name=\"Side\", max_height=20, max_width=24, relx=1, rely=8,value='asdf')\n",
    "\n",
    "        # The Main Content\n",
    "        self.InputBox3 = self.add(multiContainedBox, name=\"Content\", max_height=20,\n",
    "                                  max_width=86, relx=25, rely=8, value=\"main content\", color='FORMDEFAULT')\n",
    "\n",
    "        # END\n",
    "    def on_ok(self):\n",
    "        # Exit the application if the OK button is pressed.\n",
    "        self.parentApp.switchForm(None)\n",
    "\n",
    "    def change_forms(self, *args, **keywords):\n",
    "        if self.name == \"Navigate 1\":\n",
    "            change_to = \"SECOND\"\n",
    "        elif self.name == \"Navigate 2\":\n",
    "            change_to = \"THIRD\"\n",
    "        else:\n",
    "            change_to = \"MAIN\"\n",
    "\n",
    "        self.parentApp.change_form(change_to)\n",
    "    ### y = 30\n",
    "    ### x = 119\n",
    "\n",
    "\n",
    "class App(npyscreen.NPSAppManaged):\n",
    "    def onStart(self):\n",
    "        self.addForm(\"MAIN\", MainForm, name=\"\")\n",
    "\n",
    "\n",
    "MyApp = App()\n",
    "MyApp.run()"
   ]
  },
  {
   "cell_type": "markdown",
   "metadata": {},
   "source": [
    "- ### Output 4"
   ]
  },
  {
   "cell_type": "code",
   "execution_count": 8,
   "metadata": {},
   "outputs": [
    {
     "data": {
      "image/png": "[encoded data removed]",
      "text/plain": [
       "<Figure size 432x288 with 1 Axes>"
      ]
     },
     "metadata": {
      "needs_background": "light"
     },
     "output_type": "display_data"
    }
   ],
   "source": [
    "im_array = np.asarray(cv2.imread('merg.PNG'))\n",
    "plt.imshow(im_array)\n",
    "plt.show()"
   ]
  },
  {
   "cell_type": "markdown",
   "metadata": {},
   "source": [
    "--------------------------------------"
   ]
  },
  {
   "cell_type": "markdown",
   "metadata": {},
   "source": [
    "- ### Part 5 : Adding Multi Form In the same screen (Will be the invok for the selection)\n"
   ]
  },
  {
   "cell_type": "code",
   "execution_count": null,
   "metadata": {},
   "outputs": [],
   "source": [
    "\n",
    "#!/usr/bin/env python3\n",
    "import curses\n",
    "from time import time\n",
    "import npyscreen\n",
    "import weakref\n",
    "\n",
    "\n",
    "######################### Classes to inherit from ########################\n",
    "\n",
    "class InputWidget(npyscreen.TitleText):\n",
    "    def __init__(self, *args, **keywords):\n",
    "        super(InputWidget, self).__init__(*args, **keywords)\n",
    "        self.name = 'test'\n",
    "##########################################################################\n",
    "class InputBox(npyscreen.BoxTitle):\n",
    "    _contained_widget = npyscreen.TitleText\n",
    "    _contained_widget_height = 2\n",
    "##########################################################################\n",
    "class multiContainedBox(npyscreen.BoxTitle):\n",
    "    _contained_widget = [InputWidget, InputWidget,InputWidget]\n",
    "\n",
    "    def make_contained_widget(self, contained_widget_arguments=None):\n",
    "        self._my_widgets = []\n",
    "        _rely = self.rely+1\n",
    "        _relx = self.relx+2\n",
    "        for widget in self._contained_widget :\n",
    "            self._my_widgets.append(widget(self.parent,\n",
    "                                    rely=_rely, relx = _relx,\n",
    "                                    max_width=self.width, max_height=10,\n",
    "                                ))\n",
    "        self.entry_widget = self._my_widgets[1]\n",
    "    def update(self, clear=True):\n",
    "        if self.hidden and clear:\n",
    "            self.clear()\n",
    "            return False\n",
    "        elif self.hidden:\n",
    "            return False\n",
    "        super(multiContainedBox, self).update(clear=clear)\n",
    "        for w in self._my_widgets:\n",
    "            w.update(clear=clear)\n",
    "##########################################################################\n",
    "class MyGrid_H(npyscreen.GridColTitles):       \n",
    "    def custom_print_cell(self, actual_cell, cell_display_value):\n",
    "        \n",
    "        if cell_display_value in [\"Auth Server\", \"FIDO\",\"SCIM\",\n",
    "                     \"Config-API\",\"Client-API\", \"Scripts\"]:\n",
    "           actual_cell.color = 'FORMDEFAULT'\n",
    "##########################################################################\n",
    "class InputBox_H(npyscreen.BoxTitle):\n",
    "    _contained_widget = MyGrid_H\n",
    "##########################################################################\n",
    "class MainForm(npyscreen.FormBaseNew):\n",
    "    def create(self):\n",
    "        self.add_handlers({\"^T\": self.change_forms})\n",
    "        y, x = self.useable_space()\n",
    "        ####################   Title of the screen      \n",
    "        self.Title = self.add(npyscreen.TitleText, name=\"Jassan admin\", value=None, editable = None)\n",
    "        ####################   The  Main Navigation     \n",
    "        self.gd = self.add(InputBox_H, name=\"\",max_height=5,max_width=110,relx=1, rely=3)\n",
    "        self.gd.values = []\n",
    "        self.gd.values.append([\"Auth Server\", \"FIDO\",\"SCIM\",\"Config-API\",\"Client-API\", \"Scripts\"])   \n",
    "        # self.InputBox = self.add(multiContainedBox, name=\"Header\",max_height=5,max_width=110,relx=1, rely=3,value='hopa')\n",
    "        \n",
    "        #####################    The Side Navigation      \n",
    "        self.list = self.add(npyscreen.BoxTitle, name=\"\",\n",
    "                    custom_highlighting=True, values=[\"Basic\", \"Token\",\"Logout\",\"Timeout\",\"URIs\", \"Encription\",\"Client Properties\", \"Client Scripts\",\"Save\"],\n",
    "                     value=[],max_height=20,max_width=24, relx=1, rely=8)\n",
    "\n",
    "        # self.InputBox2 = self.add(multiContainedBox, name=\"Side\", max_height=20, max_width=24, relx=1, rely=8,value='asdf')\n",
    "        \n",
    "        ####################     The Main Content      \n",
    "        self.InputBox3 = self.add(multiContainedBox, name=\"Content\", max_height=20, max_width=86, relx=25, rely=8,value=\"main content\",color='FORMDEFAULT')\n",
    "       \n",
    "        ####################      END            \n",
    "    def on_ok(self):\n",
    "        # Exit the application if the OK button is pressed.\n",
    "        self.parentApp.switchForm(None)\n",
    "\n",
    "    def change_forms(self, *args, **keywords):\n",
    "        if self.name == \"Navigate 1\":\n",
    "            change_to = \"SECOND\"\n",
    "        elif self.name == \"Navigate 2\":\n",
    "            change_to = \"THIRD\"\n",
    "        else:\n",
    "            change_to = \"MAIN\"\n",
    "\n",
    "        self.parentApp.change_form(change_to)\n",
    "### y = 30\n",
    "### x = 119\n",
    "\n",
    "\n",
    "\n",
    "\n",
    "############################### Start poing  ####################################\n",
    "class MainAllForms(npyscreen.NPSAppManaged):\n",
    "    def onStart(self):\n",
    "        self.addForm(\"MAIN\",       MainForm, name=\"Navigate 1\", color=\"DANGER\",)\n",
    "        self.addForm(\"SECOND\",     MainForm, name=\"Navigate 2\", color=\"GOODHL\",  )\n",
    "        self.addForm(\"THIRD\", MainForm, name=\"Navigate 3\", color=\"CAUTION\",)\n",
    "        \n",
    "    def onCleanExit(self):\n",
    "        npyscreen.notify_wait(\"Goodbye!\")\n",
    "    \n",
    "    def change_form(self, name):\n",
    "        self.switchForm(name)     \n",
    "        self.resetHistory()\n",
    "\n",
    "\n",
    "\n",
    "MyApp = MainAllForms()\n",
    "MyApp.run()"
   ]
  },
  {
   "cell_type": "markdown",
   "metadata": {},
   "source": [
    "- ### Output 5"
   ]
  },
  {
   "cell_type": "code",
   "execution_count": 7,
   "metadata": {},
   "outputs": [
    {
     "data": {
      "image/png": "[encoded data removed]",
      "text/plain": [
       "<Figure size 432x288 with 1 Axes>"
      ]
     },
     "metadata": {
      "needs_background": "light"
     },
     "output_type": "display_data"
    },
    {
     "data": {
      "image/png": "[encoded data removed]",
      "text/plain": [
       "<Figure size 432x288 with 1 Axes>"
      ]
     },
     "metadata": {
      "needs_background": "light"
     },
     "output_type": "display_data"
    }
   ],
   "source": [
    "im_array = np.asarray(cv2.imread('with_navi2.PNG'))\n",
    "plt.imshow(im_array)\n",
    "plt.show()\n",
    "\n",
    "im_array = np.asarray(cv2.imread('with_navi.PNG'))\n",
    "plt.imshow(im_array)\n",
    "plt.show()"
   ]
  }
 ],
 "metadata": {
  "kernelspec": {
   "display_name": "Python 3.9.6 64-bit",
   "language": "python",
   "name": "python3"
  },
  "language_info": {
   "codemirror_mode": {
    "name": "ipython",
    "version": 3
   },
   "file_extension": ".py",
   "mimetype": "text/x-python",
   "name": "python",
   "nbconvert_exporter": "python",
   "pygments_lexer": "ipython3",
   "version": "3.9.6"
  },
  "orig_nbformat": 4,
  "vscode": {
   "interpreter": {
    "hash": "84a205566571b68d373271bc5793e97597298328d6c5101000eb31d16de1a150"
   }
  }
 },
 "nbformat": 4,
 "nbformat_minor": 2
}
